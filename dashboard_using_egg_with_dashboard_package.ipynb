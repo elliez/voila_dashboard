{
 "cells": [
  {
   "cell_type": "markdown",
   "metadata": {},
   "source": [
    "# Example dashboard \n",
    "Using the code and data available at https://github.com/voila-dashboards/voila-gridstack/blob/main/examples/scotch_dashboard.ipynb"
   ]
  },
  {
   "cell_type": "code",
   "execution_count": 1,
   "metadata": {},
   "outputs": [],
   "source": [
    "## NOTE: TO RUN USE THE FOLLOWING LINE IN COMMAND WINDOW -> need to ensure gridstack works\n",
    "# voila .\\dashboard.ipynb  --VoilaConfiguration.resources=\"{'gridstack': {'show_handles': True}}\""
   ]
  },
  {
   "cell_type": "code",
   "execution_count": 2,
   "metadata": {},
   "outputs": [],
   "source": [
    "#Need to ensure:\n",
    "#   - installed packages/software with pip install\n",
    "#    - python\n",
    "#    - pandas\n",
    "#    - voila (might need to check version of pygments as error might occur with pygments <2.4.1, while voila requires pygments >=2.4.1.)\n",
    "#    - voila-gridstack\n",
    "#    - ipywidgets\n",
    "#    - bqplot"
   ]
  },
  {
   "cell_type": "code",
   "execution_count": 3,
   "metadata": {},
   "outputs": [],
   "source": [
    "import ipywidgets as widgets\n",
    "from traitlets import Unicode, List, Instance, link, HasTraits\n",
    "from IPython.display import display, clear_output, HTML, Javascript"
   ]
  },
  {
   "cell_type": "code",
   "execution_count": 4,
   "metadata": {},
   "outputs": [],
   "source": [
    "import pandas as pd\n",
    "import numpy as np\n",
    "import os"
   ]
  },
  {
   "cell_type": "code",
   "execution_count": 5,
   "metadata": {},
   "outputs": [],
   "source": [
    "# Now import data"
   ]
  },
  {
   "cell_type": "code",
   "execution_count": 6,
   "metadata": {},
   "outputs": [],
   "source": [
    "# import data\n",
    "curr_dir= os.getcwd()\n",
    "data_path=os.path.join(curr_dir,'data')\n",
    "\n",
    "scotch_filename=os.path.join(data_path, 'scotch_data.csv')\n",
    "scotch_df=pd.read_csv(scotch_filename, index_col=0)"
   ]
  },
  {
   "cell_type": "code",
   "execution_count": 7,
   "metadata": {},
   "outputs": [],
   "source": [
    "# get science and dashboad setup from egg\n",
    "import sys\n",
    "import sys\n",
    "egg_path_v2=os.path.join(curr_dir,'example_package-0.2-py3.9.egg')\n",
    "sys.path.append(egg_path_v2)\n",
    "\n",
    "# import egg\n",
    "import example_package as expckg\n",
    "# import dashboard\n",
    "import example_package_dashboard as expdsh\n"
   ]
  },
  {
   "cell_type": "code",
   "execution_count": 1,
   "metadata": {},
   "outputs": [],
   "source": [
    "# If you want to check codelines of one of the functions in egg, can use the following\n",
    "# import inspect\n",
    "#inspect.getsource(expdsh.get_similar)"
   ]
  },
  {
   "cell_type": "code",
   "execution_count": 8,
   "metadata": {},
   "outputs": [],
   "source": [
    "scotch_df_normed=expckg.basic_science.get_normed_data(scotch_df)"
   ]
  },
  {
   "cell_type": "code",
   "execution_count": null,
   "metadata": {},
   "outputs": [],
   "source": [
    "# Code needed for interactive dashboard\n",
    "def on_pick_scotch(Scotch):\n",
    "    name = Scotch\n",
    "    # Get top 6 similar whiskeys, and remove this one\n",
    "    top_df = expdsh.get_similar(scotch_df_normed,name, 6).iloc[1:]\n",
    "    # Get bottom 5 similar whiskeys\n",
    "    df = top_df\n",
    "\n",
    "    # Make table index a set of links that the radar widget will watch\n",
    "    df.index = [\n",
    "        \"\"\"<a class=\"scotch\" href=\"#\" data-factors_keys='[\"{}\",\"{}\"]'>{}</a>\"\"\".format(\n",
    "            name, i, i\n",
    "        )\n",
    "        for i in df.index\n",
    "    ]\n",
    "\n",
    "    tmpl = f\"\"\"<p>If you like {name} you might want to try these five brands. Click one to see how its taste profile compares.</p>\"\"\"\n",
    "    prompt_w.value = tmpl\n",
    "    table.value = df.to_html(escape=False)\n",
    "    lines.x = scotch_df.loc[Scotch].index.values\n",
    "    lines.y = scotch_df.loc[Scotch].values\n",
    "\n"
   ]
  },
  {
   "cell_type": "code",
   "execution_count": null,
   "metadata": {},
   "outputs": [],
   "source": [
    "# Now run and set up parts of gridstack dashboard"
   ]
  },
  {
   "cell_type": "code",
   "execution_count": null,
   "metadata": {},
   "outputs": [],
   "source": [
    "prompt_w = widgets.HTML(value='Aberfeldy')\n",
    "display(prompt_w)"
   ]
  },
  {
   "cell_type": "code",
   "execution_count": null,
   "metadata": {},
   "outputs": [],
   "source": [
    "table = widgets.HTML(\n",
    "    value=\"Hello <b>World</b>\"\n",
    ")\n",
    "display(table)"
   ]
  },
  {
   "cell_type": "code",
   "execution_count": null,
   "metadata": {},
   "outputs": [],
   "source": [
    "from bqplot import (OrdinalScale, LinearScale, Bars, Lines,\n",
    "                    Figure, Axis, ColorScale, ColorAxis, CATEGORY10)\n",
    "x_ord = OrdinalScale()\n",
    "y_sc = LinearScale()\n",
    "\n",
    "lines = Lines(x=scotch_df.loc['Aberfeldy'].index.values,\n",
    "              y=scotch_df.loc['Aberfeldy'].values, scales={'x': x_ord, 'y': y_sc},\n",
    "              fill='bottom', fill_colors=['#aaaaff'], fill_opacities=[0.4],\n",
    "              stroke_width=3)\n",
    "ax_x = Axis(scale=x_ord, tick_rotate=45, tick_style={'font-size': 20})\n",
    "ax_y = Axis(scale=y_sc, tick_format='0.2f', orientation='vertical')\n",
    "\n",
    "Figure(marks=[lines], axes=[ax_x, ax_y], animation_duration=500)"
   ]
  },
  {
   "cell_type": "code",
   "execution_count": null,
   "metadata": {},
   "outputs": [],
   "source": [
    "picker_w = widgets.interact(on_pick_scotch,  Scotch=list(scotch_df_normed.index))"
   ]
  }
 ],
 "metadata": {
  "interpreter": {
   "hash": "6062acfe8194525532d23cb4a302d0e5cc3799aae0a3cbe5da0d65173e00af62"
  },
  "kernelspec": {
   "display_name": "Python 3.9.1 64-bit",
   "language": "python",
   "name": "python3"
  },
  "language_info": {
   "codemirror_mode": {
    "name": "ipython",
    "version": 3
   },
   "file_extension": ".py",
   "mimetype": "text/x-python",
   "name": "python",
   "nbconvert_exporter": "python",
   "pygments_lexer": "ipython3",
   "version": "3.9.1"
  },
  "orig_nbformat": 4
 },
 "nbformat": 4,
 "nbformat_minor": 2
}
